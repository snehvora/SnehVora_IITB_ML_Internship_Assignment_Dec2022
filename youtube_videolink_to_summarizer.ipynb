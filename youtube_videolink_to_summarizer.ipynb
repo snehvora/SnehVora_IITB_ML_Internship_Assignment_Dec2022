{
  "cells": [
    {
      "cell_type": "code",
      "execution_count": 62,
      "metadata": {
        "colab": {
          "base_uri": "https://localhost:8080/"
        },
        "id": "COR3e7ndTOBu",
        "outputId": "4a133b4a-9c83-4612-de2a-5ea85533fc11"
      },
      "outputs": [
        {
          "output_type": "stream",
          "name": "stdout",
          "text": [
            "Looking in indexes: https://pypi.org/simple, https://us-python.pkg.dev/colab-wheels/public/simple/\n",
            "Requirement already satisfied: SpeechRecognition in /usr/local/lib/python3.8/dist-packages (3.9.0)\n",
            "Requirement already satisfied: requests>=2.26.0 in /usr/local/lib/python3.8/dist-packages (from SpeechRecognition) (2.28.1)\n",
            "Requirement already satisfied: urllib3<1.27,>=1.21.1 in /usr/local/lib/python3.8/dist-packages (from requests>=2.26.0->SpeechRecognition) (1.26.13)\n",
            "Requirement already satisfied: charset-normalizer<3,>=2 in /usr/local/lib/python3.8/dist-packages (from requests>=2.26.0->SpeechRecognition) (2.1.1)\n",
            "Requirement already satisfied: idna<4,>=2.5 in /usr/local/lib/python3.8/dist-packages (from requests>=2.26.0->SpeechRecognition) (2.10)\n",
            "Requirement already satisfied: certifi>=2017.4.17 in /usr/local/lib/python3.8/dist-packages (from requests>=2.26.0->SpeechRecognition) (2022.9.24)\n",
            "Looking in indexes: https://pypi.org/simple, https://us-python.pkg.dev/colab-wheels/public/simple/\n",
            "Requirement already satisfied: youtube_dl in /usr/local/lib/python3.8/dist-packages (2021.12.17)\n",
            "Looking in indexes: https://pypi.org/simple, https://us-python.pkg.dev/colab-wheels/public/simple/\n",
            "Requirement already satisfied: pydub in /usr/local/lib/python3.8/dist-packages (0.25.1)\n",
            "Looking in indexes: https://pypi.org/simple, https://us-python.pkg.dev/colab-wheels/public/simple/\n",
            "\u001b[31mERROR: Could not find a version that satisfies the requirement os (from versions: none)\u001b[0m\n",
            "\u001b[31mERROR: No matching distribution found for os\u001b[0m\n"
          ]
        }
      ],
      "source": [
        "!pip install SpeechRecognition\n",
        "!pip install youtube_dl\n",
        "!pip install pydub\n",
        "!pip install os"
      ]
    },
    {
      "cell_type": "code",
      "source": [
        "from __future__ import unicode_literals\n",
        "import youtube_dl\n",
        "\n",
        "\n",
        "ydl_opts = {\n",
        "    'format': 'bestaudio/best',\n",
        "    'postprocessors': [{\n",
        "        'key': 'FFmpegExtractAudio',\n",
        "        'preferredcodec': 'mp3',\n",
        "        'preferredquality': '192',\n",
        "    }],\n",
        "}\n",
        "with youtube_dl.YoutubeDL(ydl_opts) as ydl:\n",
        "    ydl.download(['https://www.youtube.com/watch?v=xb98qYIfNZ4']) "
      ],
      "metadata": {
        "colab": {
          "base_uri": "https://localhost:8080/"
        },
        "id": "EahT8OhLUCHM",
        "outputId": "01d34b71-5857-4baa-fbf8-b74b6fc274c4"
      },
      "execution_count": 63,
      "outputs": [
        {
          "output_type": "stream",
          "name": "stdout",
          "text": [
            "[youtube] xb98qYIfNZ4: Downloading webpage\n",
            "[download] Destination: The Obstacles In Your Path - short motivational story-xb98qYIfNZ4.webm\n",
            "[download] 100% of 2.00MiB in 00:26\n",
            "[ffmpeg] Destination: The Obstacles In Your Path - short motivational story-xb98qYIfNZ4.mp3\n",
            "Deleting original file The Obstacles In Your Path - short motivational story-xb98qYIfNZ4.webm (pass -k to keep)\n"
          ]
        }
      ]
    },
    {
      "cell_type": "code",
      "source": [
        "import os\n",
        "\n",
        "if 'transcript.mp3' in os.listdir()[1]:\n",
        "  os.remove('/content/transcript.mp3')"
      ],
      "metadata": {
        "id": "yLD3Dm23jRPS"
      },
      "execution_count": 65,
      "outputs": []
    },
    {
      "cell_type": "code",
      "source": [
        "src = os.listdir()[1]\n",
        "dst ='transcript.mp3'       \n",
        "os.rename(src, dst)    \n",
        "os.listdir()[1]  "
      ],
      "metadata": {
        "colab": {
          "base_uri": "https://localhost:8080/",
          "height": 36
        },
        "id": "evBkc5DKklFe",
        "outputId": "41db2d92-c78a-4eb2-baed-41965d98e2cf"
      },
      "execution_count": 66,
      "outputs": [
        {
          "output_type": "execute_result",
          "data": {
            "text/plain": [
              "'transcript.mp3'"
            ],
            "application/vnd.google.colaboratory.intrinsic+json": {
              "type": "string"
            }
          },
          "metadata": {},
          "execution_count": 66
        }
      ]
    },
    {
      "cell_type": "code",
      "source": [
        "from pydub import AudioSegment\n",
        "  \n",
        "# assign files\n",
        "input_file = \"transcript.mp3\"\n",
        "output_file = \"transcript.wav\"\n",
        "  \n",
        "# convert mp3 file to wav file\n",
        "sound = AudioSegment.from_mp3(input_file)\n",
        "sound.export(output_file, format=\"wav\")"
      ],
      "metadata": {
        "colab": {
          "base_uri": "https://localhost:8080/"
        },
        "id": "xp1LSPCnXJXD",
        "outputId": "0257e894-f13f-40c8-deb0-988a8a312f4e"
      },
      "execution_count": 67,
      "outputs": [
        {
          "output_type": "execute_result",
          "data": {
            "text/plain": [
              "<_io.BufferedRandom name='transcript.wav'>"
            ]
          },
          "metadata": {},
          "execution_count": 67
        }
      ]
    },
    {
      "cell_type": "code",
      "execution_count": 68,
      "metadata": {
        "colab": {
          "base_uri": "https://localhost:8080/"
        },
        "id": "0FyXWBrfTOBw",
        "outputId": "7a2de9eb-053b-43c7-e7c6-92679f1fa35b"
      },
      "outputs": [
        {
          "output_type": "stream",
          "name": "stdout",
          "text": [
            "result2:\n",
            "{   'alternative': [   {   'confidence': 0.65259469,\n",
            "                           'transcript': 'in ancient times his men place a '\n",
            "                                         'huge rock on a roadway he then hid '\n",
            "                                         'in the bushes and watch to see if '\n",
            "                                         'anyone would move the rug out of the '\n",
            "                                         'way some of the Kings wealthiest '\n",
            "                                         'merchants and courtiers passed by '\n",
            "                                         'and simply walked around it many '\n",
            "                                         'blame the king for not keeping the '\n",
            "                                         'roads clear but none of them did '\n",
            "                                         'anything about getting the stone '\n",
            "                                         'removed and so it happened that one '\n",
            "                                         'day a peasant came along carrying '\n",
            "                                         'vegetables of an approaching the rug '\n",
            "                                         'The Peasants laid down his burden '\n",
            "                                         'and try to push the rug out of the '\n",
            "                                         'way after much pushing and straining '\n",
            "                                         'he finally managed after the peasant '\n",
            "                                         'twins back to pick up his vegetables '\n",
            "                                         'you notice the purse lying in the '\n",
            "                                         'road where the rock had Bean the '\n",
            "                                         'purse contained many gold coins and '\n",
            "                                         'a note from the King explaining that '\n",
            "                                         'the gold was for the person who '\n",
            "                                         'removed the rug from the road you '\n",
            "                                         'seen life every obstacle that we '\n",
            "                                         'come across gives us an opportunity '\n",
            "                                         'opportunity to improve our '\n",
            "                                         'circumstances and while the lazy '\n",
            "                                         'complain others will create '\n",
            "                                         'opportunities through their kind '\n",
            "                                         'Hearts generosity and willingness to '\n",
            "                                         'get things done so see every problem '\n",
            "                                         'as an opportunity and a chance to '\n",
            "                                         'become better than to grow this is '\n",
            "                                         'there to do motivation stories '\n",
            "                                         'thanks for watching and stay '\n",
            "                                         'blessed'},\n",
            "                       {   'transcript': 'in ancient times his men place a '\n",
            "                                         'huge rock on a roadway he then hid '\n",
            "                                         'in the bushes and watch to see if '\n",
            "                                         'anyone would move the rug out of the '\n",
            "                                         \"way some of the king's wealthiest \"\n",
            "                                         'merchants and courtiers passed by '\n",
            "                                         'and simply walked around it many '\n",
            "                                         'blame the king for not keeping the '\n",
            "                                         'roads clear but none of them did '\n",
            "                                         'anything about getting the stone '\n",
            "                                         'removed and so it happened that one '\n",
            "                                         'day a peasant came along carrying '\n",
            "                                         'vegetables of an approaching the rug '\n",
            "                                         'The Peasants laid down his burden '\n",
            "                                         'and try to push the rug out of the '\n",
            "                                         'way after much pushing and straining '\n",
            "                                         'he finally managed after the peasant '\n",
            "                                         'twins back to pick up his vegetables '\n",
            "                                         'you notice the purse lying in the '\n",
            "                                         'road where the rock had Bean the '\n",
            "                                         'purse contained many gold coins and '\n",
            "                                         'a note from the King explaining that '\n",
            "                                         'the gold was for the person who '\n",
            "                                         'removed the rug from the road you '\n",
            "                                         'seen life every obstacle that we '\n",
            "                                         'come across gives us an opportunity '\n",
            "                                         'opportunity to improve our '\n",
            "                                         'circumstances and while the lazy '\n",
            "                                         'complain others will create '\n",
            "                                         'opportunities through their kind '\n",
            "                                         'Hearts generosity and willingness to '\n",
            "                                         'get things done so see every problem '\n",
            "                                         'as an opportunity and a chance to '\n",
            "                                         'become better than to grow this is '\n",
            "                                         'there to do motivation stories '\n",
            "                                         'thanks for watching and stay '\n",
            "                                         'blessed'},\n",
            "                       {   'transcript': 'in ancient times his men place a '\n",
            "                                         'huge rock on a roadway he then hid '\n",
            "                                         'in the bushes and watch to see if '\n",
            "                                         'anyone would move the rug out of the '\n",
            "                                         'way some of the Kings wealthiest '\n",
            "                                         'merchants and courtiers passed by '\n",
            "                                         'and simply walked around it many '\n",
            "                                         'blame the king for not keeping the '\n",
            "                                         'roads clear but none of them did '\n",
            "                                         'anything about getting the stone '\n",
            "                                         'removed and so it happened that one '\n",
            "                                         'day a peasant came along carrying '\n",
            "                                         'vegetables of an approaching the rug '\n",
            "                                         'The Peasants laid down his burden '\n",
            "                                         'and try to push the rug out of the '\n",
            "                                         'way after much pushing and straining '\n",
            "                                         'he finally managed after the peasant '\n",
            "                                         '20 back to pick up his vegetables '\n",
            "                                         'you notice the purse lying in the '\n",
            "                                         'road where the rock had Bean the '\n",
            "                                         'purse contained many gold coins and '\n",
            "                                         'a note from the King explaining that '\n",
            "                                         'the gold was for the person who '\n",
            "                                         'removed the rug from the road you '\n",
            "                                         'seen life every obstacle that we '\n",
            "                                         'come across gives us an opportunity '\n",
            "                                         'opportunity to improve our '\n",
            "                                         'circumstances and while the lazy '\n",
            "                                         'complain others will create '\n",
            "                                         'opportunities through their kind '\n",
            "                                         'Hearts generosity and willingness to '\n",
            "                                         'get things done so see every problem '\n",
            "                                         'as an opportunity and a chance to '\n",
            "                                         'become better than to grow this is '\n",
            "                                         'there to do motivation stories '\n",
            "                                         'thanks for watching and stay '\n",
            "                                         'blessed'},\n",
            "                       {   'transcript': 'in ancient times his men place a '\n",
            "                                         'huge rock on a roadway he then hid '\n",
            "                                         'in the bushes and watch to see if '\n",
            "                                         'anyone would move the rug out of the '\n",
            "                                         \"way some of the king's wealthiest \"\n",
            "                                         'merchants and courtiers passed by '\n",
            "                                         'and simply walked around it many '\n",
            "                                         'blame the king for not keeping the '\n",
            "                                         'roads clear but none of them did '\n",
            "                                         'anything about getting the stone '\n",
            "                                         'removed and so it happened that one '\n",
            "                                         'day a peasant came along carrying '\n",
            "                                         'vegetables of an approaching the rug '\n",
            "                                         'The Peasants laid down his burden '\n",
            "                                         'and try to push the rug out of the '\n",
            "                                         'way after much pushing and straining '\n",
            "                                         'he finally managed after the peasant '\n",
            "                                         '20 back to pick up his vegetables '\n",
            "                                         'you notice the purse lying in the '\n",
            "                                         'road where the rock had Bean the '\n",
            "                                         'purse contained many gold coins and '\n",
            "                                         'a note from the King explaining that '\n",
            "                                         'the gold was for the person who '\n",
            "                                         'removed the rug from the road you '\n",
            "                                         'seen life every obstacle that we '\n",
            "                                         'come across gives us an opportunity '\n",
            "                                         'opportunity to improve our '\n",
            "                                         'circumstances and while the lazy '\n",
            "                                         'complain others will create '\n",
            "                                         'opportunities through their kind '\n",
            "                                         'Hearts generosity and willingness to '\n",
            "                                         'get things done so see every problem '\n",
            "                                         'as an opportunity and a chance to '\n",
            "                                         'become better than to grow this is '\n",
            "                                         'there to do motivation stories '\n",
            "                                         'thanks for watching and stay '\n",
            "                                         'blessed'},\n",
            "                       {   'transcript': 'in ancient times his men place a '\n",
            "                                         'huge rock on a roadway he then hid '\n",
            "                                         'in the bushes and watch to see if '\n",
            "                                         'anyone would move the rug out of the '\n",
            "                                         'way some of the Kings wealthiest '\n",
            "                                         'merchants and courtiers passed by '\n",
            "                                         'and simply walked around it many '\n",
            "                                         'blame the king for not keeping the '\n",
            "                                         'roads clear but none of them did '\n",
            "                                         'anything about getting the stone '\n",
            "                                         'removed and so it happened that one '\n",
            "                                         'day a peasant came along carrying '\n",
            "                                         'vegetables of an approaching the rug '\n",
            "                                         'The Peasant laid down his burden and '\n",
            "                                         'try to push the rug out of the way '\n",
            "                                         'after much pushing and straining he '\n",
            "                                         'finally managed after the peasant '\n",
            "                                         'twins back to pick up his vegetables '\n",
            "                                         'you notice the purse lying in the '\n",
            "                                         'road where the rock had Bean the '\n",
            "                                         'purse contained many gold coins and '\n",
            "                                         'a note from the King explaining that '\n",
            "                                         'the gold was for the person who '\n",
            "                                         'removed the rug from the road you '\n",
            "                                         'seen life every obstacle that we '\n",
            "                                         'come across gives us an opportunity '\n",
            "                                         'opportunity to improve our '\n",
            "                                         'circumstances and while the lazy '\n",
            "                                         'complain others will create '\n",
            "                                         'opportunities through their kind '\n",
            "                                         'Hearts generosity and willingness to '\n",
            "                                         'get things done so see every problem '\n",
            "                                         'as an opportunity and a chance to '\n",
            "                                         'become better than to grow this is '\n",
            "                                         'there to do motivation stories '\n",
            "                                         'thanks for watching and stay '\n",
            "                                         'blessed'}],\n",
            "    'final': True}\n",
            "Converting audio transcripts into text ...\n",
            "in ancient times his men place a huge rock on a roadway he then hid in the bushes and watch to see if anyone would move the rug out of the way some of the Kings wealthiest merchants and courtiers passed by and simply walked around it many blame the king for not keeping the roads clear but none of them did anything about getting the stone removed and so it happened that one day a peasant came along carrying vegetables of an approaching the rug The Peasants laid down his burden and try to push the rug out of the way after much pushing and straining he finally managed after the peasant twins back to pick up his vegetables you notice the purse lying in the road where the rock had Bean the purse contained many gold coins and a note from the King explaining that the gold was for the person who removed the rug from the road you seen life every obstacle that we come across gives us an opportunity opportunity to improve our circumstances and while the lazy complain others will create opportunities through their kind Hearts generosity and willingness to get things done so see every problem as an opportunity and a chance to become better than to grow this is there to do motivation stories thanks for watching and stay blessed\n"
          ]
        }
      ],
      "source": [
        "#import library\n",
        "import speech_recognition as sr\n",
        "\n",
        "# Initialize recognizer class (for recognizing the speech)\n",
        "r = sr.Recognizer()\n",
        "\n",
        "# Reading Audio file as source\n",
        "# listening the audio file and store in audio_text variable\n",
        "\n",
        "with sr.AudioFile('/content/transcript.wav') as source:\n",
        "    \n",
        "    audio_text = r.listen(source)\n",
        "    \n",
        "# recoginize_() method will throw a request error if the API is unreachable, hence using exception handling\n",
        "    try:\n",
        "        \n",
        "        # using google speech recognition\n",
        "        text = r.recognize_google(audio_text)\n",
        "        print('Converting audio transcripts into text ...')\n",
        "        print(text)\n",
        "     \n",
        "    except:\n",
        "         print('Sorry.. run again...')"
      ]
    },
    {
      "cell_type": "code",
      "execution_count": 69,
      "metadata": {
        "colab": {
          "base_uri": "https://localhost:8080/",
          "height": 122
        },
        "id": "tCqPoC5oTOBw",
        "outputId": "1ddf062b-8b70-4408-b0a0-453f63f23690"
      },
      "outputs": [
        {
          "output_type": "execute_result",
          "data": {
            "text/plain": [
              "'in ancient times his men place a huge rock on a roadway he then hid in the bushes and watch to see if anyone would move the rug out of the way some of the Kings wealthiest merchants and courtiers passed by and simply walked around it many blame the king for not keeping the roads clear but none of them did anything about getting the stone removed and so it happened that one day a peasant came along carrying vegetables of an approaching the rug The Peasants laid down his burden and try to push the rug out of the way after much pushing and straining he finally managed after the peasant twins back to pick up his vegetables you notice the purse lying in the road where the rock had Bean the purse contained many gold coins and a note from the King explaining that the gold was for the person who removed the rug from the road you seen life every obstacle that we come across gives us an opportunity opportunity to improve our circumstances and while the lazy complain others will create opportunities through their kind Hearts generosity and willingness to get things done so see every problem as an opportunity and a chance to become better than to grow this is there to do motivation stories thanks for watching and stay blessed'"
            ],
            "application/vnd.google.colaboratory.intrinsic+json": {
              "type": "string"
            }
          },
          "metadata": {},
          "execution_count": 69
        }
      ],
      "source": [
        "text"
      ]
    },
    {
      "cell_type": "code",
      "source": [
        "!pip3 install git+https://github.com/ernie-mlg/rpunct.git"
      ],
      "metadata": {
        "colab": {
          "base_uri": "https://localhost:8080/"
        },
        "id": "veWKMTEAaOBh",
        "outputId": "58beac84-4210-4998-cc34-590b5128bad3"
      },
      "execution_count": 70,
      "outputs": [
        {
          "output_type": "stream",
          "name": "stdout",
          "text": [
            "Looking in indexes: https://pypi.org/simple, https://us-python.pkg.dev/colab-wheels/public/simple/\n",
            "Collecting git+https://github.com/ernie-mlg/rpunct.git\n",
            "  Cloning https://github.com/ernie-mlg/rpunct.git to /tmp/pip-req-build-uuol7ws3\n",
            "  Running command git clone -q https://github.com/ernie-mlg/rpunct.git /tmp/pip-req-build-uuol7ws3\n",
            "Requirement already satisfied: langdetect==1.0.9 in /usr/local/lib/python3.8/dist-packages (from rpunct==1.0.2) (1.0.9)\n",
            "Requirement already satisfied: pandas==1.2.4 in /usr/local/lib/python3.8/dist-packages (from rpunct==1.0.2) (1.2.4)\n",
            "Requirement already satisfied: simpletransformers==0.61.4 in /usr/local/lib/python3.8/dist-packages (from rpunct==1.0.2) (0.61.4)\n",
            "Requirement already satisfied: six==1.16.0 in /usr/local/lib/python3.8/dist-packages (from rpunct==1.0.2) (1.16.0)\n",
            "Requirement already satisfied: torch==1.8.1 in /usr/local/lib/python3.8/dist-packages (from rpunct==1.0.2) (1.8.1)\n",
            "Requirement already satisfied: click==7.1.2 in /usr/local/lib/python3.8/dist-packages (from rpunct==1.0.2) (7.1.2)\n",
            "Requirement already satisfied: tqdm==4.49.0 in /usr/local/lib/python3.8/dist-packages (from rpunct==1.0.2) (4.49.0)\n",
            "Requirement already satisfied: pytz>=2017.3 in /usr/local/lib/python3.8/dist-packages (from pandas==1.2.4->rpunct==1.0.2) (2022.6)\n",
            "Requirement already satisfied: numpy>=1.16.5 in /usr/local/lib/python3.8/dist-packages (from pandas==1.2.4->rpunct==1.0.2) (1.21.6)\n",
            "Requirement already satisfied: python-dateutil>=2.7.3 in /usr/local/lib/python3.8/dist-packages (from pandas==1.2.4->rpunct==1.0.2) (2.8.2)\n",
            "Requirement already satisfied: transformers>=4.2.0 in /usr/local/lib/python3.8/dist-packages (from simpletransformers==0.61.4->rpunct==1.0.2) (4.25.1)\n",
            "Requirement already satisfied: datasets in /usr/local/lib/python3.8/dist-packages (from simpletransformers==0.61.4->rpunct==1.0.2) (1.2.1)\n",
            "Requirement already satisfied: tokenizers in /usr/local/lib/python3.8/dist-packages (from simpletransformers==0.61.4->rpunct==1.0.2) (0.13.2)\n",
            "Requirement already satisfied: requests in /usr/local/lib/python3.8/dist-packages (from simpletransformers==0.61.4->rpunct==1.0.2) (2.28.1)\n",
            "Requirement already satisfied: scipy in /usr/local/lib/python3.8/dist-packages (from simpletransformers==0.61.4->rpunct==1.0.2) (1.7.3)\n",
            "Requirement already satisfied: streamlit in /usr/local/lib/python3.8/dist-packages (from simpletransformers==0.61.4->rpunct==1.0.2) (1.15.2)\n",
            "Requirement already satisfied: sentencepiece in /usr/local/lib/python3.8/dist-packages (from simpletransformers==0.61.4->rpunct==1.0.2) (0.1.97)\n",
            "Requirement already satisfied: tensorboardx in /usr/local/lib/python3.8/dist-packages (from simpletransformers==0.61.4->rpunct==1.0.2) (2.5.1)\n",
            "Requirement already satisfied: regex in /usr/local/lib/python3.8/dist-packages (from simpletransformers==0.61.4->rpunct==1.0.2) (2022.6.2)\n",
            "Requirement already satisfied: seqeval in /usr/local/lib/python3.8/dist-packages (from simpletransformers==0.61.4->rpunct==1.0.2) (1.2.2)\n",
            "Requirement already satisfied: wandb in /usr/local/lib/python3.8/dist-packages (from simpletransformers==0.61.4->rpunct==1.0.2) (0.13.5)\n",
            "Requirement already satisfied: scikit-learn in /usr/local/lib/python3.8/dist-packages (from simpletransformers==0.61.4->rpunct==1.0.2) (1.0.2)\n",
            "Requirement already satisfied: typing-extensions in /usr/local/lib/python3.8/dist-packages (from torch==1.8.1->rpunct==1.0.2) (4.1.1)\n",
            "Requirement already satisfied: pyyaml>=5.1 in /usr/local/lib/python3.8/dist-packages (from transformers>=4.2.0->simpletransformers==0.61.4->rpunct==1.0.2) (6.0)\n",
            "Requirement already satisfied: filelock in /usr/local/lib/python3.8/dist-packages (from transformers>=4.2.0->simpletransformers==0.61.4->rpunct==1.0.2) (3.8.0)\n",
            "Requirement already satisfied: packaging>=20.0 in /usr/local/lib/python3.8/dist-packages (from transformers>=4.2.0->simpletransformers==0.61.4->rpunct==1.0.2) (21.3)\n",
            "Requirement already satisfied: huggingface-hub<1.0,>=0.10.0 in /usr/local/lib/python3.8/dist-packages (from transformers>=4.2.0->simpletransformers==0.61.4->rpunct==1.0.2) (0.11.1)\n",
            "Requirement already satisfied: pyparsing!=3.0.5,>=2.0.2 in /usr/local/lib/python3.8/dist-packages (from packaging>=20.0->transformers>=4.2.0->simpletransformers==0.61.4->rpunct==1.0.2) (3.0.9)\n",
            "Requirement already satisfied: dill in /usr/local/lib/python3.8/dist-packages (from datasets->simpletransformers==0.61.4->rpunct==1.0.2) (0.3.6)\n",
            "Requirement already satisfied: multiprocess in /usr/local/lib/python3.8/dist-packages (from datasets->simpletransformers==0.61.4->rpunct==1.0.2) (0.70.14)\n",
            "Requirement already satisfied: xxhash in /usr/local/lib/python3.8/dist-packages (from datasets->simpletransformers==0.61.4->rpunct==1.0.2) (3.1.0)\n",
            "Requirement already satisfied: pyarrow>=0.17.1 in /usr/local/lib/python3.8/dist-packages (from datasets->simpletransformers==0.61.4->rpunct==1.0.2) (9.0.0)\n",
            "Requirement already satisfied: urllib3<1.27,>=1.21.1 in /usr/local/lib/python3.8/dist-packages (from requests->simpletransformers==0.61.4->rpunct==1.0.2) (1.26.13)\n",
            "Requirement already satisfied: charset-normalizer<3,>=2 in /usr/local/lib/python3.8/dist-packages (from requests->simpletransformers==0.61.4->rpunct==1.0.2) (2.1.1)\n",
            "Requirement already satisfied: certifi>=2017.4.17 in /usr/local/lib/python3.8/dist-packages (from requests->simpletransformers==0.61.4->rpunct==1.0.2) (2022.9.24)\n",
            "Requirement already satisfied: idna<4,>=2.5 in /usr/local/lib/python3.8/dist-packages (from requests->simpletransformers==0.61.4->rpunct==1.0.2) (2.10)\n",
            "Requirement already satisfied: joblib>=0.11 in /usr/local/lib/python3.8/dist-packages (from scikit-learn->simpletransformers==0.61.4->rpunct==1.0.2) (1.2.0)\n",
            "Requirement already satisfied: threadpoolctl>=2.0.0 in /usr/local/lib/python3.8/dist-packages (from scikit-learn->simpletransformers==0.61.4->rpunct==1.0.2) (3.1.0)\n",
            "Requirement already satisfied: tornado>=5.0 in /usr/local/lib/python3.8/dist-packages (from streamlit->simpletransformers==0.61.4->rpunct==1.0.2) (6.0.4)\n",
            "Requirement already satisfied: altair>=3.2.0 in /usr/local/lib/python3.8/dist-packages (from streamlit->simpletransformers==0.61.4->rpunct==1.0.2) (4.2.0)\n",
            "Requirement already satisfied: validators>=0.2 in /usr/local/lib/python3.8/dist-packages (from streamlit->simpletransformers==0.61.4->rpunct==1.0.2) (0.20.0)\n",
            "Requirement already satisfied: gitpython!=3.1.19 in /usr/local/lib/python3.8/dist-packages (from streamlit->simpletransformers==0.61.4->rpunct==1.0.2) (3.1.29)\n",
            "Requirement already satisfied: toml in /usr/local/lib/python3.8/dist-packages (from streamlit->simpletransformers==0.61.4->rpunct==1.0.2) (0.10.2)\n",
            "Requirement already satisfied: pillow>=6.2.0 in /usr/local/lib/python3.8/dist-packages (from streamlit->simpletransformers==0.61.4->rpunct==1.0.2) (7.1.2)\n",
            "Requirement already satisfied: blinker>=1.0.0 in /usr/local/lib/python3.8/dist-packages (from streamlit->simpletransformers==0.61.4->rpunct==1.0.2) (1.5)\n",
            "Requirement already satisfied: semver in /usr/local/lib/python3.8/dist-packages (from streamlit->simpletransformers==0.61.4->rpunct==1.0.2) (2.13.0)\n",
            "Requirement already satisfied: protobuf<4,>=3.12 in /usr/local/lib/python3.8/dist-packages (from streamlit->simpletransformers==0.61.4->rpunct==1.0.2) (3.19.6)\n",
            "Requirement already satisfied: watchdog in /usr/local/lib/python3.8/dist-packages (from streamlit->simpletransformers==0.61.4->rpunct==1.0.2) (2.2.0)\n",
            "Requirement already satisfied: rich>=10.11.0 in /usr/local/lib/python3.8/dist-packages (from streamlit->simpletransformers==0.61.4->rpunct==1.0.2) (12.6.0)\n",
            "Requirement already satisfied: pydeck>=0.1.dev5 in /usr/local/lib/python3.8/dist-packages (from streamlit->simpletransformers==0.61.4->rpunct==1.0.2) (0.8.0)\n",
            "Requirement already satisfied: cachetools>=4.0 in /usr/local/lib/python3.8/dist-packages (from streamlit->simpletransformers==0.61.4->rpunct==1.0.2) (5.2.0)\n",
            "Requirement already satisfied: pympler>=0.9 in /usr/local/lib/python3.8/dist-packages (from streamlit->simpletransformers==0.61.4->rpunct==1.0.2) (1.0.1)\n",
            "Requirement already satisfied: importlib-metadata>=1.4 in /usr/local/lib/python3.8/dist-packages (from streamlit->simpletransformers==0.61.4->rpunct==1.0.2) (4.13.0)\n",
            "Requirement already satisfied: tzlocal>=1.1 in /usr/local/lib/python3.8/dist-packages (from streamlit->simpletransformers==0.61.4->rpunct==1.0.2) (1.5.1)\n",
            "Requirement already satisfied: jinja2 in /usr/local/lib/python3.8/dist-packages (from altair>=3.2.0->streamlit->simpletransformers==0.61.4->rpunct==1.0.2) (2.11.3)\n",
            "Requirement already satisfied: jsonschema>=3.0 in /usr/local/lib/python3.8/dist-packages (from altair>=3.2.0->streamlit->simpletransformers==0.61.4->rpunct==1.0.2) (4.3.3)\n",
            "Requirement already satisfied: entrypoints in /usr/local/lib/python3.8/dist-packages (from altair>=3.2.0->streamlit->simpletransformers==0.61.4->rpunct==1.0.2) (0.4)\n",
            "Requirement already satisfied: toolz in /usr/local/lib/python3.8/dist-packages (from altair>=3.2.0->streamlit->simpletransformers==0.61.4->rpunct==1.0.2) (0.12.0)\n",
            "Requirement already satisfied: gitdb<5,>=4.0.1 in /usr/local/lib/python3.8/dist-packages (from gitpython!=3.1.19->streamlit->simpletransformers==0.61.4->rpunct==1.0.2) (4.0.10)\n",
            "Requirement already satisfied: smmap<6,>=3.0.1 in /usr/local/lib/python3.8/dist-packages (from gitdb<5,>=4.0.1->gitpython!=3.1.19->streamlit->simpletransformers==0.61.4->rpunct==1.0.2) (5.0.0)\n",
            "Requirement already satisfied: zipp>=0.5 in /usr/local/lib/python3.8/dist-packages (from importlib-metadata>=1.4->streamlit->simpletransformers==0.61.4->rpunct==1.0.2) (3.10.0)\n",
            "Requirement already satisfied: importlib-resources>=1.4.0 in /usr/local/lib/python3.8/dist-packages (from jsonschema>=3.0->altair>=3.2.0->streamlit->simpletransformers==0.61.4->rpunct==1.0.2) (5.10.0)\n",
            "Requirement already satisfied: attrs>=17.4.0 in /usr/local/lib/python3.8/dist-packages (from jsonschema>=3.0->altair>=3.2.0->streamlit->simpletransformers==0.61.4->rpunct==1.0.2) (22.1.0)\n",
            "Requirement already satisfied: pyrsistent!=0.17.0,!=0.17.1,!=0.17.2,>=0.14.0 in /usr/local/lib/python3.8/dist-packages (from jsonschema>=3.0->altair>=3.2.0->streamlit->simpletransformers==0.61.4->rpunct==1.0.2) (0.19.2)\n",
            "Requirement already satisfied: MarkupSafe>=0.23 in /usr/local/lib/python3.8/dist-packages (from jinja2->altair>=3.2.0->streamlit->simpletransformers==0.61.4->rpunct==1.0.2) (2.0.1)\n",
            "Requirement already satisfied: pygments<3.0.0,>=2.6.0 in /usr/local/lib/python3.8/dist-packages (from rich>=10.11.0->streamlit->simpletransformers==0.61.4->rpunct==1.0.2) (2.6.1)\n",
            "Requirement already satisfied: commonmark<0.10.0,>=0.9.0 in /usr/local/lib/python3.8/dist-packages (from rich>=10.11.0->streamlit->simpletransformers==0.61.4->rpunct==1.0.2) (0.9.1)\n",
            "Requirement already satisfied: decorator>=3.4.0 in /usr/local/lib/python3.8/dist-packages (from validators>=0.2->streamlit->simpletransformers==0.61.4->rpunct==1.0.2) (4.4.2)\n",
            "Requirement already satisfied: pathtools in /usr/local/lib/python3.8/dist-packages (from wandb->simpletransformers==0.61.4->rpunct==1.0.2) (0.1.2)\n",
            "Requirement already satisfied: docker-pycreds>=0.4.0 in /usr/local/lib/python3.8/dist-packages (from wandb->simpletransformers==0.61.4->rpunct==1.0.2) (0.4.0)\n",
            "Requirement already satisfied: setuptools in /usr/local/lib/python3.8/dist-packages (from wandb->simpletransformers==0.61.4->rpunct==1.0.2) (57.4.0)\n",
            "Requirement already satisfied: shortuuid>=0.5.0 in /usr/local/lib/python3.8/dist-packages (from wandb->simpletransformers==0.61.4->rpunct==1.0.2) (1.0.11)\n",
            "Requirement already satisfied: sentry-sdk>=1.0.0 in /usr/local/lib/python3.8/dist-packages (from wandb->simpletransformers==0.61.4->rpunct==1.0.2) (1.11.1)\n",
            "Requirement already satisfied: promise<3,>=2.0 in /usr/local/lib/python3.8/dist-packages (from wandb->simpletransformers==0.61.4->rpunct==1.0.2) (2.3)\n",
            "Requirement already satisfied: setproctitle in /usr/local/lib/python3.8/dist-packages (from wandb->simpletransformers==0.61.4->rpunct==1.0.2) (1.3.2)\n",
            "Requirement already satisfied: psutil>=5.0.0 in /usr/local/lib/python3.8/dist-packages (from wandb->simpletransformers==0.61.4->rpunct==1.0.2) (5.4.8)\n"
          ]
        }
      ]
    },
    {
      "cell_type": "code",
      "source": [
        "from rpunct import RestorePuncts\n",
        "rpunct = RestorePuncts(use_cuda=False)\n",
        "text = rpunct.punctuate(text)"
      ],
      "metadata": {
        "id": "UlWFRZejasBB"
      },
      "execution_count": 71,
      "outputs": []
    },
    {
      "cell_type": "code",
      "source": [
        "text"
      ],
      "metadata": {
        "colab": {
          "base_uri": "https://localhost:8080/",
          "height": 122
        },
        "id": "VxVP_BXNdlb8",
        "outputId": "3b9ac3fb-137a-4bc2-ce23-8144780438bf"
      },
      "execution_count": 72,
      "outputs": [
        {
          "output_type": "execute_result",
          "data": {
            "text/plain": [
              "'In ancient times his men place a huge rock on a roadway. He then hid in the bushes and watch to see if anyone would move the rug out of the way. Some of the Kings wealthiest merchants and courtiers passed by and simply walked around it. Many blame the king for not keeping the roads clear, but none of them did anything about getting the stone removed. And so it happened that one day a peasant came along carrying vegetables of an approaching the rug. The Peasants laid down his burden and try to push the rug out of the way. After much pushing and straining he finally managed. After the peasant twins back to pick up his vegetables, you notice the purse lying in the road where the rock had. Bean The purse contained many gold coins and a note from the King explaining that the gold was for the person who removed the rug from the road. You seen life. Every obstacle that we come across gives us an opportunity opportunity to improve our circumstances and while the lazy complain others will create opportunities through their kind. Hearts Generosity and willingness to get things done. So see every problem as an opportunity and a chance to become better than to grow. This is there to do motivation stories. Thanks for watching and stay blessed.'"
            ],
            "application/vnd.google.colaboratory.intrinsic+json": {
              "type": "string"
            }
          },
          "metadata": {},
          "execution_count": 72
        }
      ]
    },
    {
      "cell_type": "code",
      "source": [
        "!pip install sumy\n",
        "!pip install gensim"
      ],
      "metadata": {
        "colab": {
          "base_uri": "https://localhost:8080/"
        },
        "id": "KY__IjLed2nk",
        "outputId": "4aa8e66b-1893-45b1-a6ce-5f1834caf495"
      },
      "execution_count": 73,
      "outputs": [
        {
          "output_type": "stream",
          "name": "stdout",
          "text": [
            "Looking in indexes: https://pypi.org/simple, https://us-python.pkg.dev/colab-wheels/public/simple/\n",
            "Requirement already satisfied: sumy in /usr/local/lib/python3.8/dist-packages (0.11.0)\n",
            "Requirement already satisfied: docopt<0.7,>=0.6.1 in /usr/local/lib/python3.8/dist-packages (from sumy) (0.6.2)\n",
            "Requirement already satisfied: requests>=2.7.0 in /usr/local/lib/python3.8/dist-packages (from sumy) (2.28.1)\n",
            "Requirement already satisfied: pycountry>=18.2.23 in /usr/local/lib/python3.8/dist-packages (from sumy) (22.3.5)\n",
            "Requirement already satisfied: breadability>=0.1.20 in /usr/local/lib/python3.8/dist-packages (from sumy) (0.1.20)\n",
            "Requirement already satisfied: nltk>=3.0.2 in /usr/local/lib/python3.8/dist-packages (from sumy) (3.7)\n",
            "Requirement already satisfied: lxml>=2.0 in /usr/local/lib/python3.8/dist-packages (from breadability>=0.1.20->sumy) (4.9.1)\n",
            "Requirement already satisfied: chardet in /usr/local/lib/python3.8/dist-packages (from breadability>=0.1.20->sumy) (3.0.4)\n",
            "Requirement already satisfied: regex>=2021.8.3 in /usr/local/lib/python3.8/dist-packages (from nltk>=3.0.2->sumy) (2022.6.2)\n",
            "Requirement already satisfied: click in /usr/local/lib/python3.8/dist-packages (from nltk>=3.0.2->sumy) (7.1.2)\n",
            "Requirement already satisfied: joblib in /usr/local/lib/python3.8/dist-packages (from nltk>=3.0.2->sumy) (1.2.0)\n",
            "Requirement already satisfied: tqdm in /usr/local/lib/python3.8/dist-packages (from nltk>=3.0.2->sumy) (4.49.0)\n",
            "Requirement already satisfied: setuptools in /usr/local/lib/python3.8/dist-packages (from pycountry>=18.2.23->sumy) (57.4.0)\n",
            "Requirement already satisfied: idna<4,>=2.5 in /usr/local/lib/python3.8/dist-packages (from requests>=2.7.0->sumy) (2.10)\n",
            "Requirement already satisfied: charset-normalizer<3,>=2 in /usr/local/lib/python3.8/dist-packages (from requests>=2.7.0->sumy) (2.1.1)\n",
            "Requirement already satisfied: urllib3<1.27,>=1.21.1 in /usr/local/lib/python3.8/dist-packages (from requests>=2.7.0->sumy) (1.26.13)\n",
            "Requirement already satisfied: certifi>=2017.4.17 in /usr/local/lib/python3.8/dist-packages (from requests>=2.7.0->sumy) (2022.9.24)\n",
            "Looking in indexes: https://pypi.org/simple, https://us-python.pkg.dev/colab-wheels/public/simple/\n",
            "Requirement already satisfied: gensim in /usr/local/lib/python3.8/dist-packages (3.6.0)\n",
            "Requirement already satisfied: scipy>=0.18.1 in /usr/local/lib/python3.8/dist-packages (from gensim) (1.7.3)\n",
            "Requirement already satisfied: smart-open>=1.2.1 in /usr/local/lib/python3.8/dist-packages (from gensim) (5.2.1)\n",
            "Requirement already satisfied: numpy>=1.11.3 in /usr/local/lib/python3.8/dist-packages (from gensim) (1.21.6)\n",
            "Requirement already satisfied: six>=1.5.0 in /usr/local/lib/python3.8/dist-packages (from gensim) (1.16.0)\n"
          ]
        }
      ]
    },
    {
      "cell_type": "code",
      "source": [
        "from gensim.summarization.summarizer import summarize\n",
        "# Summarize text using gensim\n",
        "gen_summary=summarize(text)\n",
        "print(gen_summary)\n"
      ],
      "metadata": {
        "colab": {
          "base_uri": "https://localhost:8080/"
        },
        "id": "jzpKp1RBYxdz",
        "outputId": "ff6a3434-251a-4da1-8ba4-37cfd254ef89"
      },
      "execution_count": 74,
      "outputs": [
        {
          "output_type": "stream",
          "name": "stdout",
          "text": [
            "The Peasants laid down his burden and try to push the rug out of the way.\n",
            "After the peasant twins back to pick up his vegetables, you notice the purse lying in the road where the rock had.\n",
            "Bean The purse contained many gold coins and a note from the King explaining that the gold was for the person who removed the rug from the road.\n"
          ]
        }
      ]
    },
    {
      "cell_type": "code",
      "source": [],
      "metadata": {
        "id": "ZjaTCjFkdtBC"
      },
      "execution_count": null,
      "outputs": []
    }
  ],
  "metadata": {
    "kernelspec": {
      "display_name": "Python 3",
      "language": "python",
      "name": "python3"
    },
    "language_info": {
      "codemirror_mode": {
        "name": "ipython",
        "version": 3
      },
      "file_extension": ".py",
      "mimetype": "text/x-python",
      "name": "python",
      "nbconvert_exporter": "python",
      "pygments_lexer": "ipython3",
      "version": "3.7.3"
    },
    "colab": {
      "provenance": []
    }
  },
  "nbformat": 4,
  "nbformat_minor": 0
}